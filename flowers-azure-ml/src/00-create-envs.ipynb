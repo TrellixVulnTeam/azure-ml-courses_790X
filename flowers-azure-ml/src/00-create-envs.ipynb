{
  "cells": [
    {
      "cell_type": "markdown",
      "metadata": {},
      "source": [
        "## Import Packages"
      ]
    },
    {
      "cell_type": "code",
      "execution_count": 1,
      "metadata": {},
      "outputs": [
        {
          "name": "stdout",
          "output_type": "stream",
          "text": [
            "Azure ML SDK Version:  1.41.0\n"
          ]
        }
      ],
      "source": [
        "import azureml\n",
        "\n",
        "from azureml.core import Workspace, Environment\n",
        "from azureml.core.authentication import AzureCliAuthentication\n",
        "from azureml.core.conda_dependencies import CondaDependencies \n",
        "\n",
        "print(\"Azure ML SDK Version: \", azureml.core.VERSION)"
      ]
    },
    {
      "cell_type": "markdown",
      "metadata": {},
      "source": [
        "## Connect to the Workspace"
      ]
    },
    {
      "cell_type": "code",
      "execution_count": 2,
      "metadata": {},
      "outputs": [
        {
          "name": "stdout",
          "output_type": "stream",
          "text": [
            "Found workspace ml-poc-ws at location westeurope\n"
          ]
        }
      ],
      "source": [
        "cli_auth = AzureCliAuthentication()\n",
        "\n",
        "ws = Workspace(\n",
        "    subscription_id=\"d752c461-4a37-4d63-a15d-ec58b07063cb\",\n",
        "    resource_group=\"ml-poc\",\n",
        "    workspace_name=\"ml-poc-ws\",\n",
        "    auth=cli_auth,\n",
        ")\n",
        "\n",
        "print(\"Found workspace {} at location {}\".format(ws.name, ws.location))"
      ]
    },
    {
      "cell_type": "markdown",
      "metadata": {},
      "source": [
        "## Create train environment"
      ]
    },
    {
      "cell_type": "code",
      "execution_count": 8,
      "metadata": {},
      "outputs": [],
      "source": [
        "CUSTOM_TRAIN_GPU_IMAGE = 'mcr.microsoft.com/azureml/openmpi4.1.0-cuda11.1-cudnn8-ubuntu18.04:20220516.v1'\n",
        "\n",
        "CUSTOM_TRAIN_GPU_DOCKERFILE = f'''\n",
        "FROM {CUSTOM_TRAIN_GPU_IMAGE}\n",
        "\n",
        "RUN apt-get install ffmpeg libsm6 libxext6 libgl1-mesa-glx  -y\n",
        "RUN apt-get update && apt-get install -y python3-opencv\n",
        "'''"
      ]
    },
    {
      "cell_type": "code",
      "execution_count": 9,
      "metadata": {},
      "outputs": [],
      "source": [
        "conda_channels = ['anaconda', 'pytorch', 'conda-forge']\n",
        "\n",
        "conda_packages=[\n",
        "    'pip==20.2.4', 'pytorch=1.10.0', 'torchvision=0.11.1', 'torchaudio=0.10.0',\n",
        "    'cudatoolkit=11.1.1', 'nvidia-apex=0.1.0', 'gxx_linux-64',\n",
        "]\n",
        "\n",
        "pip_packages = [\n",
        "    'matplotlib>=3.3,<3.4', 'scikit-learn==1.0.2', 'psutil>=5.8,<5.9',\n",
        "    'tqdm>=4.59,<4.63', 'pandas>=1.3,<1.4', 'scipy>=1.5,<1.8',\n",
        "    'numpy>=1.10,<1.22', 'ipykernel~=6.0', 'azureml-core==1.41.0.post3',\n",
        "    'azureml-defaults==1.41.0', 'azureml-mlflow==1.41.0', 'azureml-telemetry==1.41.0',\n",
        "    'tensorboard==2.6.0', 'tensorflow-gpu==2.6.0', 'onnxruntime-gpu>=1.7,<1.10',\n",
        "    'future==0.18.2', 'opencv-python==4.5.4.60', 'accelerate==0.9.0',\n",
        "    'opencv-python-headless==4.5.5.64', 'albumentations==1.1.0', 'torch-tb-profiler==0.3.1',\n",
        "    'protobuf==3.20.0',\n",
        "]"
      ]
    },
    {
      "cell_type": "code",
      "execution_count": 10,
      "metadata": {},
      "outputs": [],
      "source": [
        "conda_deps = CondaDependencies.create(\n",
        "    python_version=\"3.8\", conda_packages=conda_packages, pip_packages=pip_packages,\n",
        ")\n",
        "\n",
        "for c in conda_channels:\n",
        "    conda_deps.add_channel(c)\n",
        "\n",
        "train_environment = Environment(name=\"flowers-train-pytorch-1-10-ubuntu18-py38-cuda11-gpu\")\n",
        "train_environment.docker.base_image = None\n",
        "train_environment.docker.base_dockerfile = CUSTOM_TRAIN_GPU_DOCKERFILE\n",
        "train_environment.python.conda_dependencies = conda_deps\n",
        "# train_environment.python.interpreter_path = 'python'\n",
        "# train_environment.python.user_managed_dependencies=True\n",
        "# train_environment.python.interpreter_path = \"/opt/miniconda/bin/python\"\n",
        "train_environment.register(ws);"
      ]
    },
    {
      "cell_type": "code",
      "execution_count": 19,
      "metadata": {},
      "outputs": [],
      "source": [
        "# details = train_environment.get_image_details(workspace=ws)\n",
        "# print(details['ingredients']['dockerfile'])"
      ]
    },
    {
      "cell_type": "markdown",
      "metadata": {},
      "source": [
        "## Create infer environment"
      ]
    },
    {
      "cell_type": "code",
      "execution_count": 3,
      "metadata": {},
      "outputs": [],
      "source": [
        "CUSTOM_INFER_GPU_IMAGE = 'mcr.microsoft.com/azureml/openmpi4.1.0-cuda11.1-cudnn8-ubuntu18.04:20220516.v1'\n",
        "\n",
        "CUSTOM_INFER_GPU_DOCKERFILE = f'''\n",
        "FROM {CUSTOM_INFER_GPU_IMAGE}\n",
        "\n",
        "RUN apt-get install ffmpeg libsm6 libxext6 libgl1-mesa-glx  -y\n",
        "RUN apt-get update && apt-get install -y python3-opencv\n",
        "'''"
      ]
    },
    {
      "cell_type": "code",
      "execution_count": 4,
      "metadata": {},
      "outputs": [],
      "source": [
        "conda_channels = ['anaconda', 'pytorch', 'conda-forge']\n",
        "\n",
        "conda_packages=[\n",
        "    'pip==20.2.4', 'pytorch=1.10.0', 'torchvision=0.11.1',\n",
        "    'cudatoolkit=11.1.1', 'nvidia-apex=0.1.0', 'gxx_linux-64',\n",
        "]\n",
        "\n",
        "pip_packages = [\n",
        "    'psutil>=5.8,<5.9', 'tqdm>=4.59,<4.63', 'numpy>=1.10,<1.22', 'ipykernel~=6.0',\n",
        "    'azureml-core==1.41.0.post3', 'azureml-defaults==1.41.0', 'azureml-mlflow==1.41.0',\n",
        "    'azureml-telemetry==1.41.0', 'onnxruntime-gpu>=1.7,<1.10', 'future==0.18.2',\n",
        "    'opencv-python==4.5.4.60', 'opencv-python-headless==4.5.5.64', 'albumentations==1.1.0',\n",
        "    'protobuf==3.20.0',\n",
        "]"
      ]
    },
    {
      "cell_type": "code",
      "execution_count": 5,
      "metadata": {},
      "outputs": [],
      "source": [
        "conda_deps = CondaDependencies.create(\n",
        "    python_version=\"3.8\", conda_packages=conda_packages, pip_packages=pip_packages,\n",
        ")\n",
        "\n",
        "for c in conda_channels:\n",
        "    conda_deps.add_channel(c)\n",
        "\n",
        "infer_environment = Environment(name=\"flowers-infer-pytorch-1-10-ubuntu18-py38-cuda11-gpu\")\n",
        "infer_environment.docker.base_image = None\n",
        "infer_environment.docker.base_dockerfile = CUSTOM_INFER_GPU_DOCKERFILE\n",
        "infer_environment.python.conda_dependencies = conda_deps\n",
        "infer_environment.register(ws);"
      ]
    },
    {
      "cell_type": "code",
      "execution_count": null,
      "metadata": {},
      "outputs": [],
      "source": []
    }
  ],
  "metadata": {
    "interpreter": {
      "hash": "6d65a8c07f5b6469e0fc613f182488c0dccce05038bbda39e5ac9075c0454d11"
    },
    "kernel_info": {
      "name": "python3"
    },
    "kernelspec": {
      "display_name": "Python 3",
      "language": "python",
      "name": "python3"
    },
    "language_info": {
      "codemirror_mode": {
        "name": "ipython",
        "version": 3
      },
      "file_extension": ".py",
      "mimetype": "text/x-python",
      "name": "python",
      "nbconvert_exporter": "python",
      "pygments_lexer": "ipython3",
      "version": "3.8.5"
    },
    "nteract": {
      "version": "nteract-front-end@1.0.0"
    },
    "orig_nbformat": 4
  },
  "nbformat": 4,
  "nbformat_minor": 2
}
