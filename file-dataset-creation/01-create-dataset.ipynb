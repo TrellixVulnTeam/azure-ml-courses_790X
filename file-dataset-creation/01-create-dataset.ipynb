{
  "cells": [
    {
      "cell_type": "code",
      "execution_count": 2,
      "metadata": {
        "gather": {
          "logged": 1656614422341
        }
      },
      "outputs": [
        {
          "name": "stdout",
          "output_type": "stream",
          "text": [
            "Azure ML SDK Version:  1.42.0\n"
          ]
        }
      ],
      "source": [
        "import azureml\n",
        "\n",
        "from azureml.core import Workspace, Environment, Datastore\n",
        "from azureml.core.authentication import AzureCliAuthentication\n",
        "from azureml.core.dataset import Dataset\n",
        "\n",
        "print(\"Azure ML SDK Version: \", azureml.core.VERSION)"
      ]
    },
    {
      "cell_type": "code",
      "execution_count": 3,
      "metadata": {
        "gather": {
          "logged": 1656614423147
        },
        "jupyter": {
          "outputs_hidden": false,
          "source_hidden": false
        },
        "nteract": {
          "transient": {
            "deleting": false
          }
        }
      },
      "outputs": [],
      "source": [
        "# !az login"
      ]
    },
    {
      "cell_type": "code",
      "execution_count": 4,
      "metadata": {
        "gather": {
          "logged": 1656614425182
        },
        "jupyter": {
          "outputs_hidden": false,
          "source_hidden": false
        },
        "nteract": {
          "transient": {
            "deleting": false
          }
        }
      },
      "outputs": [
        {
          "name": "stdout",
          "output_type": "stream",
          "text": [
            "Found workspace mlw-dmpbackup-westeu-01p at location westeurope\n"
          ]
        }
      ],
      "source": [
        "cli_auth = AzureCliAuthentication()\n",
        "\n",
        "ws = Workspace(\n",
        "    subscription_id=\"\",\n",
        "    resource_group=\"\",\n",
        "    workspace_name=\"\",\n",
        "    auth=cli_auth,\n",
        ")\n",
        "\n",
        "print(\"Found workspace {} at location {}\".format(ws.name, ws.location))"
      ]
    },
    {
      "cell_type": "code",
      "execution_count": 5,
      "metadata": {
        "gather": {
          "logged": 1656614436581
        },
        "jupyter": {
          "outputs_hidden": false,
          "source_hidden": false
        },
        "nteract": {
          "transient": {
            "deleting": false
          }
        }
      },
      "outputs": [],
      "source": [
        "# !git clone https://github.com/brian-the-dev/recaptcha-dataset"
      ]
    },
    {
      "cell_type": "code",
      "execution_count": 6,
      "metadata": {
        "gather": {
          "logged": 1656614440443
        },
        "jupyter": {
          "outputs_hidden": false,
          "source_hidden": false
        },
        "nteract": {
          "transient": {
            "deleting": false
          }
        }
      },
      "outputs": [],
      "source": [
        "# !ls recaptcha-dataset/Large/"
      ]
    },
    {
      "cell_type": "code",
      "execution_count": 13,
      "metadata": {
        "gather": {
          "logged": 1656587357064
        },
        "jupyter": {
          "outputs_hidden": false,
          "source_hidden": false
        },
        "nteract": {
          "transient": {
            "deleting": false
          }
        }
      },
      "outputs": [
        {
          "data": {
            "text/plain": [
              "$AZUREML_DATAREFERENCE_4d2b367f1dba4ed9b6ad290b5472c57b"
            ]
          },
          "execution_count": 13,
          "metadata": {},
          "output_type": "execute_result"
        }
      ],
      "source": [
        "# Upload file to default datastore in workspace\n",
        "datatstore = ws.get_default_datastore()\n",
        "target_path = \"training-data/\"\n",
        "datatstore.upload(\n",
        "    src_dir='recaptcha-dataset/Large/',\n",
        "    target_path=target_path,\n",
        "    overwrite=True,\n",
        "    show_progress=False,\n",
        ")"
      ]
    },
    {
      "cell_type": "code",
      "execution_count": 14,
      "metadata": {
        "gather": {
          "logged": 1656587367848
        },
        "jupyter": {
          "outputs_hidden": false,
          "source_hidden": false
        },
        "nteract": {
          "transient": {
            "deleting": false
          }
        }
      },
      "outputs": [],
      "source": [
        "import os\n",
        "\n",
        "dataset_name = 'recapcha_ds'\n",
        "\n",
        "path_on_datastore = os.path.join(target_path, '/**/*.png')\n",
        "dataset = Dataset.File.from_files(\n",
        "    path=(datatstore, path_on_datastore)\n",
        ")\n",
        "dataset = dataset.register(\n",
        "    workspace=ws,\n",
        "    name=dataset_name,\n",
        "    description=\"recapcha training data\",\n",
        "    tags={\"format\": \"png\"},\n",
        "    create_new_version=True,\n",
        ")"
      ]
    },
    {
      "cell_type": "code",
      "execution_count": 7,
      "metadata": {
        "gather": {
          "logged": 1656614479357
        },
        "jupyter": {
          "outputs_hidden": false,
          "source_hidden": false
        },
        "nteract": {
          "transient": {
            "deleting": false
          }
        }
      },
      "outputs": [],
      "source": [
        "dataset = Dataset.get_by_name(\n",
        "    workspace=ws, name='recapcha_ds',\n",
        ")"
      ]
    },
    {
      "cell_type": "code",
      "execution_count": null,
      "metadata": {
        "jupyter": {
          "outputs_hidden": false,
          "source_hidden": false
        },
        "nteract": {
          "transient": {
            "deleting": false
          }
        }
      },
      "outputs": [],
      "source": []
    }
  ],
  "metadata": {
    "kernel_info": {
      "name": "python38-azureml"
    },
    "kernelspec": {
      "display_name": "Python 3.8 - AzureML",
      "language": "python",
      "name": "python38-azureml"
    },
    "language_info": {
      "codemirror_mode": {
        "name": "ipython",
        "version": 3
      },
      "file_extension": ".py",
      "mimetype": "text/x-python",
      "name": "python",
      "nbconvert_exporter": "python",
      "pygments_lexer": "ipython3",
      "version": "3.8.5"
    },
    "microsoft": {
      "host": {
        "AzureML": {
          "notebookHasBeenCompleted": true
        }
      }
    },
    "nteract": {
      "version": "nteract-front-end@1.0.0"
    }
  },
  "nbformat": 4,
  "nbformat_minor": 2
}
