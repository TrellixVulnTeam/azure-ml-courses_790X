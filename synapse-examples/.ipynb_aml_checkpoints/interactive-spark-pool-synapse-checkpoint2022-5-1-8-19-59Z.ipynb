{
  "cells": [
    {
      "cell_type": "markdown",
      "source": [
        "## Interactive Spark Session on Synapse Spark Pool"
      ],
      "metadata": {
        "nteract": {
          "transient": {
            "deleting": false
          }
        }
      }
    },
    {
      "cell_type": "code",
      "source": [
        "!pip install -U \"azureml-synapse\""
      ],
      "outputs": [
        {
          "output_type": "stream",
          "name": "stdout",
          "text": "Collecting azureml-synapse\n  Downloading azureml_synapse-1.42.0-py3-none-any.whl (2.8 MB)\n\u001b[K     |████████████████████████████████| 2.8 MB 23.2 MB/s eta 0:00:01\n\u001b[?25hCollecting azure.mgmt.synapse>=2.0.0\n  Downloading azure_mgmt_synapse-2.0.0-py2.py3-none-any.whl (442 kB)\n\u001b[K     |████████████████████████████████| 442 kB 98.9 MB/s eta 0:00:01\n\u001b[?25hCollecting azure.identity>=1.4.1\n  Downloading azure_identity-1.10.0-py3-none-any.whl (134 kB)\n\u001b[K     |████████████████████████████████| 134 kB 94.7 MB/s eta 0:00:01\n\u001b[?25hCollecting azureml-core~=1.42.0\n  Downloading azureml_core-1.42.0-py3-none-any.whl (2.7 MB)\n\u001b[K     |████████████████████████████████| 2.7 MB 89.0 MB/s eta 0:00:01\n\u001b[?25hCollecting hdijupyterutils<=0.16.0,>=0.15.0\n  Downloading hdijupyterutils-0.16.0.tar.gz (4.6 kB)\nCollecting sparkmagic<=0.16.0,>=0.15.0\n  Downloading sparkmagic-0.16.0.tar.gz (35 kB)\nRequirement already satisfied, skipping upgrade: azure-common~=1.1 in /anaconda/envs/azureml_py38/lib/python3.8/site-packages (from azure.mgmt.synapse>=2.0.0->azureml-synapse) (1.1.28)\nRequirement already satisfied, skipping upgrade: azure-mgmt-core<2.0.0,>=1.2.0 in /anaconda/envs/azureml_py38/lib/python3.8/site-packages (from azure.mgmt.synapse>=2.0.0->azureml-synapse) (1.3.0)\nRequirement already satisfied, skipping upgrade: msrest>=0.6.21 in /anaconda/envs/azureml_py38/lib/python3.8/site-packages (from azure.mgmt.synapse>=2.0.0->azureml-synapse) (0.6.21)\nRequirement already satisfied, skipping upgrade: msal<2.0.0,>=1.12.0 in /anaconda/envs/azureml_py38/lib/python3.8/site-packages (from azure.identity>=1.4.1->azureml-synapse) (1.17.0)\nRequirement already satisfied, skipping upgrade: azure-core<2.0.0,>=1.11.0 in /anaconda/envs/azureml_py38/lib/python3.8/site-packages (from azure.identity>=1.4.1->azureml-synapse) (1.23.1)\nRequirement already satisfied, skipping upgrade: cryptography>=2.5 in /anaconda/envs/azureml_py38/lib/python3.8/site-packages (from azure.identity>=1.4.1->azureml-synapse) (36.0.2)\nRequirement already satisfied, skipping upgrade: msal-extensions<2.0.0,>=0.3.0 in /anaconda/envs/azureml_py38/lib/python3.8/site-packages (from azure.identity>=1.4.1->azureml-synapse) (0.3.1)\nRequirement already satisfied, skipping upgrade: six>=1.12.0 in /anaconda/envs/azureml_py38/lib/python3.8/site-packages (from azure.identity>=1.4.1->azureml-synapse) (1.16.0)\nRequirement already satisfied, skipping upgrade: humanfriendly<11.0,>=4.7 in /anaconda/envs/azureml_py38/lib/python3.8/site-packages (from azureml-core~=1.42.0->azureml-synapse) (10.0)\nRequirement already satisfied, skipping upgrade: azure-mgmt-storage<=20.0.0,>=16.0.0 in /anaconda/envs/azureml_py38/lib/python3.8/site-packages (from azureml-core~=1.42.0->azureml-synapse) (19.1.0)\nRequirement already satisfied, skipping upgrade: PyJWT<3.0.0 in /anaconda/envs/azureml_py38/lib/python3.8/site-packages (from azureml-core~=1.42.0->azureml-synapse) (2.3.0)\nRequirement already satisfied, skipping upgrade: backports.tempfile in /anaconda/envs/azureml_py38/lib/python3.8/site-packages (from azureml-core~=1.42.0->azureml-synapse) (1.0)\nRequirement already satisfied, skipping upgrade: pkginfo in /anaconda/envs/azureml_py38/lib/python3.8/site-packages (from azureml-core~=1.42.0->azureml-synapse) (1.8.2)\nRequirement already satisfied, skipping upgrade: jsonpickle<3.0.0 in /anaconda/envs/azureml_py38/lib/python3.8/site-packages (from azureml-core~=1.42.0->azureml-synapse) (2.1.0)\nRequirement already satisfied, skipping upgrade: azure-mgmt-keyvault<10.0.0,>=0.40.0 in /anaconda/envs/azureml_py38/lib/python3.8/site-packages (from azureml-core~=1.42.0->azureml-synapse) (9.3.0)\nRequirement already satisfied, skipping upgrade: argcomplete<3 in /anaconda/envs/azureml_py38/lib/python3.8/site-packages (from azureml-core~=1.42.0->azureml-synapse) (2.0.0)\nRequirement already satisfied, skipping upgrade: msrestazure<=0.6.4,>=0.4.33 in /anaconda/envs/azureml_py38/lib/python3.8/site-packages (from azureml-core~=1.42.0->azureml-synapse) (0.6.4)\nRequirement already satisfied, skipping upgrade: knack~=0.9.0 in /anaconda/envs/azureml_py38/lib/python3.8/site-packages (from azureml-core~=1.42.0->azureml-synapse) (0.9.0)\nRequirement already satisfied, skipping upgrade: pyopenssl<23.0.0 in /anaconda/envs/azureml_py38/lib/python3.8/site-packages (from azureml-core~=1.42.0->azureml-synapse) (22.0.0)\nRequirement already satisfied, skipping upgrade: SecretStorage<4.0.0 in /anaconda/envs/azureml_py38/lib/python3.8/site-packages (from azureml-core~=1.42.0->azureml-synapse) (3.3.2)\nRequirement already satisfied, skipping upgrade: pytz in /anaconda/envs/azureml_py38/lib/python3.8/site-packages (from azureml-core~=1.42.0->azureml-synapse) (2021.3)\nRequirement already satisfied, skipping upgrade: ndg-httpsclient<=0.5.1 in /anaconda/envs/azureml_py38/lib/python3.8/site-packages (from azureml-core~=1.42.0->azureml-synapse) (0.5.1)\nRequirement already satisfied, skipping upgrade: adal<=1.2.7,>=1.2.0 in /anaconda/envs/azureml_py38/lib/python3.8/site-packages (from azureml-core~=1.42.0->azureml-synapse) (1.2.7)\nRequirement already satisfied, skipping upgrade: azure-mgmt-containerregistry<10,>=8.2.0 in /anaconda/envs/azureml_py38/lib/python3.8/site-packages (from azureml-core~=1.42.0->azureml-synapse) (9.1.0)\nRequirement already satisfied, skipping upgrade: azure-mgmt-resource<=21.0.0,>=15.0.0 in /anaconda/envs/azureml_py38/lib/python3.8/site-packages (from azureml-core~=1.42.0->azureml-synapse) (20.1.0)\nRequirement already satisfied, skipping upgrade: docker<6.0.0 in /anaconda/envs/azureml_py38/lib/python3.8/site-packages (from azureml-core~=1.42.0->azureml-synapse) (5.0.3)\nRequirement already satisfied, skipping upgrade: requests[socks]<3.0.0,>=2.19.1 in /anaconda/envs/azureml_py38/lib/python3.8/site-packages (from azureml-core~=1.42.0->azureml-synapse) (2.27.1)\nRequirement already satisfied, skipping upgrade: jmespath<=1.0.0 in /anaconda/envs/azureml_py38/lib/python3.8/site-packages (from azureml-core~=1.42.0->azureml-synapse) (0.10.0)\nRequirement already satisfied, skipping upgrade: urllib3<=1.26.9,>=1.23 in /anaconda/envs/azureml_py38/lib/python3.8/site-packages (from azureml-core~=1.42.0->azureml-synapse) (1.26.7)\nRequirement already satisfied, skipping upgrade: packaging<22.0,>=20.0 in /anaconda/envs/azureml_py38/lib/python3.8/site-packages (from azureml-core~=1.42.0->azureml-synapse) (21.3)\nRequirement already satisfied, skipping upgrade: paramiko<3.0.0,>=2.0.8 in /anaconda/envs/azureml_py38/lib/python3.8/site-packages (from azureml-core~=1.42.0->azureml-synapse) (2.10.3)\nRequirement already satisfied, skipping upgrade: azure-mgmt-authorization<3,>=0.40.0 in /anaconda/envs/azureml_py38/lib/python3.8/site-packages (from azureml-core~=1.42.0->azureml-synapse) (2.0.0)\nRequirement already satisfied, skipping upgrade: azure-graphrbac<1.0.0,>=0.40.0 in /anaconda/envs/azureml_py38/lib/python3.8/site-packages (from azureml-core~=1.42.0->azureml-synapse) (0.61.1)\nRequirement already satisfied, skipping upgrade: pathspec<1.0.0 in /anaconda/envs/azureml_py38/lib/python3.8/site-packages (from azureml-core~=1.42.0->azureml-synapse) (0.9.0)\nRequirement already satisfied, skipping upgrade: contextlib2<22.0.0 in /anaconda/envs/azureml_py38/lib/python3.8/site-packages (from azureml-core~=1.42.0->azureml-synapse) (21.6.0)\nRequirement already satisfied, skipping upgrade: python-dateutil<3.0.0,>=2.7.3 in /anaconda/envs/azureml_py38/lib/python3.8/site-packages (from azureml-core~=1.42.0->azureml-synapse) (2.8.2)\nRequirement already satisfied, skipping upgrade: ipython>=4.0.2 in /anaconda/envs/azureml_py38/lib/python3.8/site-packages (from hdijupyterutils<=0.16.0,>=0.15.0->azureml-synapse) (8.2.0)\nCollecting nose\n  Downloading nose-1.3.7-py3-none-any.whl (154 kB)\n\u001b[K     |████████████████████████████████| 154 kB 80.5 MB/s eta 0:00:01\n\u001b[?25hCollecting mock\n  Downloading mock-4.0.3-py3-none-any.whl (28 kB)\nRequirement already satisfied, skipping upgrade: ipywidgets>5.0.0 in /anaconda/envs/azureml_py38/lib/python3.8/site-packages (from hdijupyterutils<=0.16.0,>=0.15.0->azureml-synapse) (7.7.0)\nRequirement already satisfied, skipping upgrade: ipykernel>=4.2.2 in /anaconda/envs/azureml_py38/lib/python3.8/site-packages (from hdijupyterutils<=0.16.0,>=0.15.0->azureml-synapse) (6.6.0)\nRequirement already satisfied, skipping upgrade: jupyter>=1 in /anaconda/envs/azureml_py38/lib/python3.8/site-packages (from hdijupyterutils<=0.16.0,>=0.15.0->azureml-synapse) (1.0.0)\nRequirement already satisfied, skipping upgrade: pandas>=0.17.1 in /anaconda/envs/azureml_py38/lib/python3.8/site-packages (from hdijupyterutils<=0.16.0,>=0.15.0->azureml-synapse) (1.1.5)\nRequirement already satisfied, skipping upgrade: numpy in /anaconda/envs/azureml_py38/lib/python3.8/site-packages (from hdijupyterutils<=0.16.0,>=0.15.0->azureml-synapse) (1.19.0)\nRequirement already satisfied, skipping upgrade: notebook>=4.2 in /anaconda/envs/azureml_py38/lib/python3.8/site-packages (from hdijupyterutils<=0.16.0,>=0.15.0->azureml-synapse) (6.4.11)\nCollecting autovizwidget>=0.6\n  Downloading autovizwidget-0.20.0.tar.gz (8.8 kB)\nRequirement already satisfied, skipping upgrade: tornado>=4 in /anaconda/envs/azureml_py38/lib/python3.8/site-packages (from sparkmagic<=0.16.0,>=0.15.0->azureml-synapse) (6.1)\nCollecting requests_kerberos>=0.8.0\n  Downloading requests_kerberos-0.14.0-py2.py3-none-any.whl (11 kB)\nRequirement already satisfied, skipping upgrade: requests-oauthlib>=0.5.0 in /anaconda/envs/azureml_py38/lib/python3.8/site-packages (from msrest>=0.6.21->azure.mgmt.synapse>=2.0.0->azureml-synapse) (1.3.1)\nRequirement already satisfied, skipping upgrade: certifi>=2017.4.17 in /anaconda/envs/azureml_py38/lib/python3.8/site-packages (from msrest>=0.6.21->azure.mgmt.synapse>=2.0.0->azureml-synapse) (2021.10.8)\nRequirement already satisfied, skipping upgrade: isodate>=0.6.0 in /anaconda/envs/azureml_py38/lib/python3.8/site-packages (from msrest>=0.6.21->azure.mgmt.synapse>=2.0.0->azureml-synapse) (0.6.1)\nRequirement already satisfied, skipping upgrade: typing-extensions>=4.0.1 in /anaconda/envs/azureml_py38/lib/python3.8/site-packages (from azure-core<2.0.0,>=1.11.0->azure.identity>=1.4.1->azureml-synapse) (4.2.0)\nRequirement already satisfied, skipping upgrade: cffi>=1.12 in /anaconda/envs/azureml_py38/lib/python3.8/site-packages (from cryptography>=2.5->azure.identity>=1.4.1->azureml-synapse) (1.15.0)\nRequirement already satisfied, skipping upgrade: portalocker<3,>=1.0; python_version >= \"3.5\" and platform_system != \"Windows\" in /anaconda/envs/azureml_py38/lib/python3.8/site-packages (from msal-extensions<2.0.0,>=0.3.0->azure.identity>=1.4.1->azureml-synapse) (2.4.0)\nRequirement already satisfied, skipping upgrade: backports.weakref in /anaconda/envs/azureml_py38/lib/python3.8/site-packages (from backports.tempfile->azureml-core~=1.42.0->azureml-synapse) (1.0.post1)\nRequirement already satisfied, skipping upgrade: pyyaml in /anaconda/envs/azureml_py38/lib/python3.8/site-packages (from knack~=0.9.0->azureml-core~=1.42.0->azureml-synapse) (6.0)\nRequirement already satisfied, skipping upgrade: pygments in /anaconda/envs/azureml_py38/lib/python3.8/site-packages (from knack~=0.9.0->azureml-core~=1.42.0->azureml-synapse) (2.11.2)\nRequirement already satisfied, skipping upgrade: tabulate in /anaconda/envs/azureml_py38/lib/python3.8/site-packages (from knack~=0.9.0->azureml-core~=1.42.0->azureml-synapse) (0.8.9)\nRequirement already satisfied, skipping upgrade: jeepney>=0.6 in /anaconda/envs/azureml_py38/lib/python3.8/site-packages (from SecretStorage<4.0.0->azureml-core~=1.42.0->azureml-synapse) (0.8.0)\nRequirement already satisfied, skipping upgrade: pyasn1>=0.1.1 in /anaconda/envs/azureml_py38/lib/python3.8/site-packages (from ndg-httpsclient<=0.5.1->azureml-core~=1.42.0->azureml-synapse) (0.4.8)\nRequirement already satisfied, skipping upgrade: websocket-client>=0.32.0 in /anaconda/envs/azureml_py38/lib/python3.8/site-packages (from docker<6.0.0->azureml-core~=1.42.0->azureml-synapse) (1.3.2)\nRequirement already satisfied, skipping upgrade: idna<4,>=2.5; python_version >= \"3\" in /anaconda/envs/azureml_py38/lib/python3.8/site-packages (from requests[socks]<3.0.0,>=2.19.1->azureml-core~=1.42.0->azureml-synapse) (3.3)\nRequirement already satisfied, skipping upgrade: charset-normalizer~=2.0.0; python_version >= \"3\" in /anaconda/envs/azureml_py38/lib/python3.8/site-packages (from requests[socks]<3.0.0,>=2.19.1->azureml-core~=1.42.0->azureml-synapse) (2.0.12)\nRequirement already satisfied, skipping upgrade: PySocks!=1.5.7,>=1.5.6; extra == \"socks\" in /anaconda/envs/azureml_py38/lib/python3.8/site-packages (from requests[socks]<3.0.0,>=2.19.1->azureml-core~=1.42.0->azureml-synapse) (1.7.1)\nRequirement already satisfied, skipping upgrade: pyparsing!=3.0.5,>=2.0.2 in /anaconda/envs/azureml_py38/lib/python3.8/site-packages (from packaging<22.0,>=20.0->azureml-core~=1.42.0->azureml-synapse) (3.0.8)\nRequirement already satisfied, skipping upgrade: pynacl>=1.0.1 in /anaconda/envs/azureml_py38/lib/python3.8/site-packages (from paramiko<3.0.0,>=2.0.8->azureml-core~=1.42.0->azureml-synapse) (1.5.0)\nRequirement already satisfied, skipping upgrade: bcrypt>=3.1.3 in /anaconda/envs/azureml_py38/lib/python3.8/site-packages (from paramiko<3.0.0,>=2.0.8->azureml-core~=1.42.0->azureml-synapse) (3.2.0)\nRequirement already satisfied, skipping upgrade: pexpect>4.3; sys_platform != \"win32\" in /anaconda/envs/azureml_py38/lib/python3.8/site-packages (from ipython>=4.0.2->hdijupyterutils<=0.16.0,>=0.15.0->azureml-synapse) (4.8.0)\nRequirement already satisfied, skipping upgrade: matplotlib-inline in /anaconda/envs/azureml_py38/lib/python3.8/site-packages (from ipython>=4.0.2->hdijupyterutils<=0.16.0,>=0.15.0->azureml-synapse) (0.1.3)\nRequirement already satisfied, skipping upgrade: traitlets>=5 in /anaconda/envs/azureml_py38/lib/python3.8/site-packages (from ipython>=4.0.2->hdijupyterutils<=0.16.0,>=0.15.0->azureml-synapse) (5.1.1)\nRequirement already satisfied, skipping upgrade: setuptools>=18.5 in /anaconda/envs/azureml_py38/lib/python3.8/site-packages (from ipython>=4.0.2->hdijupyterutils<=0.16.0,>=0.15.0->azureml-synapse) (61.2.0)\nRequirement already satisfied, skipping upgrade: decorator in /anaconda/envs/azureml_py38/lib/python3.8/site-packages (from ipython>=4.0.2->hdijupyterutils<=0.16.0,>=0.15.0->azureml-synapse) (5.1.1)\nRequirement already satisfied, skipping upgrade: jedi>=0.16 in /anaconda/envs/azureml_py38/lib/python3.8/site-packages (from ipython>=4.0.2->hdijupyterutils<=0.16.0,>=0.15.0->azureml-synapse) (0.18.1)\nRequirement already satisfied, skipping upgrade: backcall in /anaconda/envs/azureml_py38/lib/python3.8/site-packages (from ipython>=4.0.2->hdijupyterutils<=0.16.0,>=0.15.0->azureml-synapse) (0.2.0)\nRequirement already satisfied, skipping upgrade: pickleshare in /anaconda/envs/azureml_py38/lib/python3.8/site-packages (from ipython>=4.0.2->hdijupyterutils<=0.16.0,>=0.15.0->azureml-synapse) (0.7.5)\nRequirement already satisfied, skipping upgrade: prompt-toolkit!=3.0.0,!=3.0.1,<3.1.0,>=2.0.0 in /anaconda/envs/azureml_py38/lib/python3.8/site-packages (from ipython>=4.0.2->hdijupyterutils<=0.16.0,>=0.15.0->azureml-synapse) (3.0.28)\nRequirement already satisfied, skipping upgrade: stack-data in /anaconda/envs/azureml_py38/lib/python3.8/site-packages (from ipython>=4.0.2->hdijupyterutils<=0.16.0,>=0.15.0->azureml-synapse) (0.2.0)\nRequirement already satisfied, skipping upgrade: jupyterlab-widgets>=1.0.0; python_version >= \"3.6\" in /anaconda/envs/azureml_py38/lib/python3.8/site-packages (from ipywidgets>5.0.0->hdijupyterutils<=0.16.0,>=0.15.0->azureml-synapse) (1.1.0)\nRequirement already satisfied, skipping upgrade: widgetsnbextension~=3.6.0 in /anaconda/envs/azureml_py38/lib/python3.8/site-packages (from ipywidgets>5.0.0->hdijupyterutils<=0.16.0,>=0.15.0->azureml-synapse) (3.6.0)\nRequirement already satisfied, skipping upgrade: nbformat>=4.2.0 in /anaconda/envs/azureml_py38/lib/python3.8/site-packages (from ipywidgets>5.0.0->hdijupyterutils<=0.16.0,>=0.15.0->azureml-synapse) (5.2.0)\nRequirement already satisfied, skipping upgrade: ipython-genutils~=0.2.0 in /anaconda/envs/azureml_py38/lib/python3.8/site-packages (from ipywidgets>5.0.0->hdijupyterutils<=0.16.0,>=0.15.0->azureml-synapse) (0.2.0)\nRequirement already satisfied, skipping upgrade: debugpy<2.0,>=1.0.0 in /anaconda/envs/azureml_py38/lib/python3.8/site-packages (from ipykernel>=4.2.2->hdijupyterutils<=0.16.0,>=0.15.0->azureml-synapse) (1.6.0)\nRequirement already satisfied, skipping upgrade: jupyter-client<8.0 in /anaconda/envs/azureml_py38/lib/python3.8/site-packages (from ipykernel>=4.2.2->hdijupyterutils<=0.16.0,>=0.15.0->azureml-synapse) (7.2.2)\nRequirement already satisfied, skipping upgrade: nbconvert in /anaconda/envs/azureml_py38/lib/python3.8/site-packages (from jupyter>=1->hdijupyterutils<=0.16.0,>=0.15.0->azureml-synapse) (6.5.0)\nRequirement already satisfied, skipping upgrade: qtconsole in /anaconda/envs/azureml_py38/lib/python3.8/site-packages (from jupyter>=1->hdijupyterutils<=0.16.0,>=0.15.0->azureml-synapse) (5.3.0)\nRequirement already satisfied, skipping upgrade: jupyter-console in /anaconda/envs/azureml_py38/lib/python3.8/site-packages (from jupyter>=1->hdijupyterutils<=0.16.0,>=0.15.0->azureml-synapse) (6.4.3)\nRequirement already satisfied, skipping upgrade: argon2-cffi in /anaconda/envs/azureml_py38/lib/python3.8/site-packages (from notebook>=4.2->hdijupyterutils<=0.16.0,>=0.15.0->azureml-synapse) (21.3.0)\nRequirement already satisfied, skipping upgrade: jinja2 in /anaconda/envs/azureml_py38/lib/python3.8/site-packages (from notebook>=4.2->hdijupyterutils<=0.16.0,>=0.15.0->azureml-synapse) (2.11.2)\nRequirement already satisfied, skipping upgrade: jupyter-core>=4.6.1 in /anaconda/envs/azureml_py38/lib/python3.8/site-packages (from notebook>=4.2->hdijupyterutils<=0.16.0,>=0.15.0->azureml-synapse) (4.10.0)\nRequirement already satisfied, skipping upgrade: nest-asyncio>=1.5 in /anaconda/envs/azureml_py38/lib/python3.8/site-packages (from notebook>=4.2->hdijupyterutils<=0.16.0,>=0.15.0->azureml-synapse) (1.5.5)\nRequirement already satisfied, skipping upgrade: pyzmq>=17 in /anaconda/envs/azureml_py38/lib/python3.8/site-packages (from notebook>=4.2->hdijupyterutils<=0.16.0,>=0.15.0->azureml-synapse) (22.3.0)\nRequirement already satisfied, skipping upgrade: terminado>=0.8.3 in /anaconda/envs/azureml_py38/lib/python3.8/site-packages (from notebook>=4.2->hdijupyterutils<=0.16.0,>=0.15.0->azureml-synapse) (0.13.3)\nRequirement already satisfied, skipping upgrade: prometheus-client in /anaconda/envs/azureml_py38/lib/python3.8/site-packages (from notebook>=4.2->hdijupyterutils<=0.16.0,>=0.15.0->azureml-synapse) (0.14.1)\nRequirement already satisfied, skipping upgrade: Send2Trash>=1.8.0 in /anaconda/envs/azureml_py38/lib/python3.8/site-packages (from notebook>=4.2->hdijupyterutils<=0.16.0,>=0.15.0->azureml-synapse) (1.8.0)\nRequirement already satisfied, skipping upgrade: plotly>=3 in /anaconda/envs/azureml_py38/lib/python3.8/site-packages (from autovizwidget>=0.6->sparkmagic<=0.16.0,>=0.15.0->azureml-synapse) (5.7.0)\nCollecting pyspnego[kerberos]\n  Downloading pyspnego-0.5.2-py2.py3-none-any.whl (123 kB)\n\u001b[K     |████████████████████████████████| 123 kB 88.5 MB/s eta 0:00:01\n\u001b[?25hRequirement already satisfied, skipping upgrade: oauthlib>=3.0.0 in /anaconda/envs/azureml_py38/lib/python3.8/site-packages (from requests-oauthlib>=0.5.0->msrest>=0.6.21->azure.mgmt.synapse>=2.0.0->azureml-synapse) (3.2.0)\nRequirement already satisfied, skipping upgrade: pycparser in /anaconda/envs/azureml_py38/lib/python3.8/site-packages (from cffi>=1.12->cryptography>=2.5->azure.identity>=1.4.1->azureml-synapse) (2.21)\nRequirement already satisfied, skipping upgrade: ptyprocess>=0.5 in /anaconda/envs/azureml_py38/lib/python3.8/site-packages (from pexpect>4.3; sys_platform != \"win32\"->ipython>=4.0.2->hdijupyterutils<=0.16.0,>=0.15.0->azureml-synapse) (0.7.0)\nRequirement already satisfied, skipping upgrade: parso<0.9.0,>=0.8.0 in /anaconda/envs/azureml_py38/lib/python3.8/site-packages (from jedi>=0.16->ipython>=4.0.2->hdijupyterutils<=0.16.0,>=0.15.0->azureml-synapse) (0.8.3)\nRequirement already satisfied, skipping upgrade: wcwidth in /anaconda/envs/azureml_py38/lib/python3.8/site-packages (from prompt-toolkit!=3.0.0,!=3.0.1,<3.1.0,>=2.0.0->ipython>=4.0.2->hdijupyterutils<=0.16.0,>=0.15.0->azureml-synapse) (0.2.5)\nRequirement already satisfied, skipping upgrade: pure-eval in /anaconda/envs/azureml_py38/lib/python3.8/site-packages (from stack-data->ipython>=4.0.2->hdijupyterutils<=0.16.0,>=0.15.0->azureml-synapse) (0.2.2)\nRequirement already satisfied, skipping upgrade: executing in /anaconda/envs/azureml_py38/lib/python3.8/site-packages (from stack-data->ipython>=4.0.2->hdijupyterutils<=0.16.0,>=0.15.0->azureml-synapse) (0.8.3)\nRequirement already satisfied, skipping upgrade: asttokens in /anaconda/envs/azureml_py38/lib/python3.8/site-packages (from stack-data->ipython>=4.0.2->hdijupyterutils<=0.16.0,>=0.15.0->azureml-synapse) (2.0.5)\nRequirement already satisfied, skipping upgrade: jsonschema!=2.5.0,>=2.4 in /anaconda/envs/azureml_py38/lib/python3.8/site-packages (from nbformat>=4.2.0->ipywidgets>5.0.0->hdijupyterutils<=0.16.0,>=0.15.0->azureml-synapse) (4.4.0)\nRequirement already satisfied, skipping upgrade: entrypoints in /anaconda/envs/azureml_py38/lib/python3.8/site-packages (from jupyter-client<8.0->ipykernel>=4.2.2->hdijupyterutils<=0.16.0,>=0.15.0->azureml-synapse) (0.4)\nRequirement already satisfied, skipping upgrade: nbclient>=0.5.0 in /anaconda/envs/azureml_py38/lib/python3.8/site-packages (from nbconvert->jupyter>=1->hdijupyterutils<=0.16.0,>=0.15.0->azureml-synapse) (0.6.3)\nRequirement already satisfied, skipping upgrade: bleach in /anaconda/envs/azureml_py38/lib/python3.8/site-packages (from nbconvert->jupyter>=1->hdijupyterutils<=0.16.0,>=0.15.0->azureml-synapse) (5.0.0)\nRequirement already satisfied, skipping upgrade: beautifulsoup4 in /anaconda/envs/azureml_py38/lib/python3.8/site-packages (from nbconvert->jupyter>=1->hdijupyterutils<=0.16.0,>=0.15.0->azureml-synapse) (4.11.1)\nRequirement already satisfied, skipping upgrade: tinycss2 in /anaconda/envs/azureml_py38/lib/python3.8/site-packages (from nbconvert->jupyter>=1->hdijupyterutils<=0.16.0,>=0.15.0->azureml-synapse) (1.1.1)\nRequirement already satisfied, skipping upgrade: jupyterlab-pygments in /anaconda/envs/azureml_py38/lib/python3.8/site-packages (from nbconvert->jupyter>=1->hdijupyterutils<=0.16.0,>=0.15.0->azureml-synapse) (0.2.2)\nRequirement already satisfied, skipping upgrade: pandocfilters>=1.4.1 in /anaconda/envs/azureml_py38/lib/python3.8/site-packages (from nbconvert->jupyter>=1->hdijupyterutils<=0.16.0,>=0.15.0->azureml-synapse) (1.5.0)\nRequirement already satisfied, skipping upgrade: defusedxml in /anaconda/envs/azureml_py38/lib/python3.8/site-packages (from nbconvert->jupyter>=1->hdijupyterutils<=0.16.0,>=0.15.0->azureml-synapse) (0.7.1)\nRequirement already satisfied, skipping upgrade: MarkupSafe>=2.0 in /anaconda/envs/azureml_py38/lib/python3.8/site-packages (from nbconvert->jupyter>=1->hdijupyterutils<=0.16.0,>=0.15.0->azureml-synapse) (2.0.1)\nRequirement already satisfied, skipping upgrade: mistune<2,>=0.8.1 in /anaconda/envs/azureml_py38/lib/python3.8/site-packages (from nbconvert->jupyter>=1->hdijupyterutils<=0.16.0,>=0.15.0->azureml-synapse) (0.8.4)\nRequirement already satisfied, skipping upgrade: qtpy>=2.0.1 in /anaconda/envs/azureml_py38/lib/python3.8/site-packages (from qtconsole->jupyter>=1->hdijupyterutils<=0.16.0,>=0.15.0->azureml-synapse) (2.1.0)\nRequirement already satisfied, skipping upgrade: argon2-cffi-bindings in /anaconda/envs/azureml_py38/lib/python3.8/site-packages (from argon2-cffi->notebook>=4.2->hdijupyterutils<=0.16.0,>=0.15.0->azureml-synapse) (21.2.0)\nRequirement already satisfied, skipping upgrade: tenacity>=6.2.0 in /anaconda/envs/azureml_py38/lib/python3.8/site-packages (from plotly>=3->autovizwidget>=0.6->sparkmagic<=0.16.0,>=0.15.0->azureml-synapse) (8.0.1)\nCollecting gssapi>=1.5.0; sys_platform != \"win32\" and extra == \"kerberos\"\n  Downloading gssapi-1.7.3.tar.gz (1.3 MB)\n\u001b[K     |████████████████████████████████| 1.3 MB 71.2 MB/s eta 0:00:01\n\u001b[?25hCollecting krb5>=0.3.0; sys_platform != \"win32\" and extra == \"kerberos\"\n  Downloading krb5-0.3.0.tar.gz (1.7 MB)\n\u001b[K     |████████████████████████████████| 1.7 MB 91.1 MB/s eta 0:00:01\n\u001b[?25h  Installing build dependencies ... \u001b[?25l-\b \b\\\b \b|\b \b/\b \bdone\n\u001b[?25h  Getting requirements to build wheel ... \u001b[?25l-\b \b\\\b \b|\b \bdone\n\u001b[?25h    Preparing wheel metadata ... \u001b[?25l-\b \b\\\b \b|\b \b/\b \bdone\n\u001b[?25hRequirement already satisfied, skipping upgrade: attrs>=17.4.0 in /anaconda/envs/azureml_py38/lib/python3.8/site-packages (from jsonschema!=2.5.0,>=2.4->nbformat>=4.2.0->ipywidgets>5.0.0->hdijupyterutils<=0.16.0,>=0.15.0->azureml-synapse) (21.4.0)\nRequirement already satisfied, skipping upgrade: importlib-resources>=1.4.0; python_version < \"3.9\" in /anaconda/envs/azureml_py38/lib/python3.8/site-packages (from jsonschema!=2.5.0,>=2.4->nbformat>=4.2.0->ipywidgets>5.0.0->hdijupyterutils<=0.16.0,>=0.15.0->azureml-synapse) (5.7.1)\nRequirement already satisfied, skipping upgrade: pyrsistent!=0.17.0,!=0.17.1,!=0.17.2,>=0.14.0 in /anaconda/envs/azureml_py38/lib/python3.8/site-packages (from jsonschema!=2.5.0,>=2.4->nbformat>=4.2.0->ipywidgets>5.0.0->hdijupyterutils<=0.16.0,>=0.15.0->azureml-synapse) (0.18.1)\nRequirement already satisfied, skipping upgrade: webencodings in /anaconda/envs/azureml_py38/lib/python3.8/site-packages (from bleach->nbconvert->jupyter>=1->hdijupyterutils<=0.16.0,>=0.15.0->azureml-synapse) (0.5.1)\nRequirement already satisfied, skipping upgrade: soupsieve>1.2 in /anaconda/envs/azureml_py38/lib/python3.8/site-packages (from beautifulsoup4->nbconvert->jupyter>=1->hdijupyterutils<=0.16.0,>=0.15.0->azureml-synapse) (2.3.2.post1)\nRequirement already satisfied, skipping upgrade: zipp>=3.1.0; python_version < \"3.10\" in /anaconda/envs/azureml_py38/lib/python3.8/site-packages (from importlib-resources>=1.4.0; python_version < \"3.9\"->jsonschema!=2.5.0,>=2.4->nbformat>=4.2.0->ipywidgets>5.0.0->hdijupyterutils<=0.16.0,>=0.15.0->azureml-synapse) (3.8.0)\nBuilding wheels for collected packages: hdijupyterutils, sparkmagic, autovizwidget, gssapi, krb5\n  Building wheel for hdijupyterutils (setup.py) ... \u001b[?25l-\b \b\\\b \b|\b \b/\b \b-\b \b\\\b \b|\b \bdone\n\u001b[?25h  Created wheel for hdijupyterutils: filename=hdijupyterutils-0.16.0-py3-none-any.whl size=7695 sha256=a2ab115d37ee3c025889e0e87310c989223729b66b7b9d4de3ffa9a1d55c6a94\n  Stored in directory: /home/azureuser/.cache/pip/wheels/81/19/93/07f28be77a310dd01554a2b4b834edb41e650e41dfe843db7e\n  Building wheel for sparkmagic (setup.py) ... \u001b[?25l-\b \b\\\b \b|\b \b/\b \b-\b \b\\\b \b|\b \bdone\n\u001b[?25h  Created wheel for sparkmagic: filename=sparkmagic-0.16.0-py3-none-any.whl size=57244 sha256=f0890484476b77ad88744b9d99bc40b36c043cddf0dd149392474ddb0cee6d47\n  Stored in directory: /home/azureuser/.cache/pip/wheels/bf/18/83/9e6c7745980e7162dba4494b45658f977bb5667bab7af63efb\n  Building wheel for autovizwidget (setup.py) ... \u001b[?25l-\b \b\\\b \b|\b \b/\b \b-\b \b\\\b \b|\b \bdone\n\u001b[?25h  Created wheel for autovizwidget: filename=autovizwidget-0.20.0-py3-none-any.whl size=14641 sha256=0e3edcbef878a6faebddaeacd730399f6c07c6c851b656b8eac9288f98d97cae\n  Stored in directory: /home/azureuser/.cache/pip/wheels/c0/c6/72/ade57ec305cbd10071a63cb4e2508e14e4cf3b5340c6cfa801\n  Building wheel for gssapi (setup.py) ... \u001b[?25l-\b \b\\\b \b|\b \b/\b \b-\b \b\\\b \b|\b \b/\b \b-\b \b\\\b \b|\b \b/\b \b-\b \b\\\b \b|\b \b/\b \b-\b \b\\\b \b|\b \b/\b \b-\b \b\\\b \b|\b \b/\b \b-\b \b\\\b \b|\b \b/\b \b-\b \b\\\b \b|\b \b/\b \b-\b \b\\\b \b|\b \b/\b \b-\b \b\\\b \b|\b \b/\b \b-\b \b\\\b \bdone\n\u001b[?25h  Created wheel for gssapi: filename=gssapi-1.7.3-cp38-cp38-linux_x86_64.whl size=3099950 sha256=4d0e4c6089bf77cf79477b0aca8c95fdb123297f7dbbf4cc41cd3cfa97973b76\n  Stored in directory: /home/azureuser/.cache/pip/wheels/7a/0f/cf/3c4a34e91fd3dcc13961fbf0a182066b2db0aada0c24d1ca9e\n  Building wheel for krb5 (PEP 517) ... \u001b[?25l-\b \b\\\b \b|\b \b/\b \b-\b \b\\\b \b|\b \b/\b \b-\b \b\\\b \b|\b \b/\b \b-\b \b\\\b \b|\b \b/\b \b-\b \b\\\b \b|\b \b/\b \b-\b \b\\\b \b|\b \b/\b \b-\b \b\\\b \b|\b \bdone\n\u001b[?25h  Created wheel for krb5: filename=krb5-0.3.0-cp38-cp38-linux_x86_64.whl size=3576044 sha256=511a0b57ab2f1b6a75f6f3bacbeb0ef88480179f1f4c07a4104a73331052ba03\n  Stored in directory: /home/azureuser/.cache/pip/wheels/eb/50/4f/fae1eb12a8947d17d87214170dd042960ef9c5bad97b773310\nSuccessfully built hdijupyterutils sparkmagic autovizwidget gssapi krb5\n\u001b[31mERROR: azureml-widgets 1.41.0 has requirement azureml-core~=1.41.0, but you'll have azureml-core 1.42.0 which is incompatible.\u001b[0m\n\u001b[31mERROR: azureml-train-core 1.41.0 has requirement azureml-core~=1.41.0, but you'll have azureml-core 1.42.0 which is incompatible.\u001b[0m\n\u001b[31mERROR: azureml-train-automl-runtime 1.41.0 has requirement azureml-core~=1.41.0, but you'll have azureml-core 1.42.0 which is incompatible.\u001b[0m\n\u001b[31mERROR: azureml-train-automl-runtime 1.41.0 has requirement scikit-learn<0.23.0,>=0.19.0, but you'll have scikit-learn 1.0.2 which is incompatible.\u001b[0m\n\u001b[31mERROR: azureml-train-automl-runtime 1.41.0 has requirement scipy<=1.5.2,>=1.0.0, but you'll have scipy 1.5.3 which is incompatible.\u001b[0m\n\u001b[31mERROR: azureml-train-automl-client 1.41.0 has requirement azureml-core~=1.41.0, but you'll have azureml-core 1.42.0 which is incompatible.\u001b[0m\n\u001b[31mERROR: azureml-tensorboard 1.41.0 has requirement azureml-core~=1.41.0, but you'll have azureml-core 1.42.0 which is incompatible.\u001b[0m\n\u001b[31mERROR: azureml-telemetry 1.41.0 has requirement azureml-core~=1.41.0, but you'll have azureml-core 1.42.0 which is incompatible.\u001b[0m\n\u001b[31mERROR: azureml-sdk 1.41.0 has requirement azureml-core~=1.41.0, but you'll have azureml-core 1.42.0 which is incompatible.\u001b[0m\n\u001b[31mERROR: azureml-responsibleai 1.41.0 has requirement azureml-core~=1.41.0, but you'll have azureml-core 1.42.0 which is incompatible.\u001b[0m\n\u001b[31mERROR: azureml-pipeline-core 1.41.0 has requirement azureml-core~=1.41.0, but you'll have azureml-core 1.42.0 which is incompatible.\u001b[0m\n\u001b[31mERROR: azureml-opendatasets 1.41.0 has requirement azureml-core~=1.41.0, but you'll have azureml-core 1.42.0 which is incompatible.\u001b[0m\n\u001b[31mERROR: azureml-mlflow 1.41.0 has requirement azureml-core~=1.41.0, but you'll have azureml-core 1.42.0 which is incompatible.\u001b[0m\n\u001b[31mERROR: azureml-interpret 1.41.0 has requirement azureml-core~=1.41.0, but you'll have azureml-core 1.42.0 which is incompatible.\u001b[0m\n\u001b[31mERROR: azureml-defaults 1.41.0 has requirement azureml-core~=1.41.0, but you'll have azureml-core 1.42.0 which is incompatible.\u001b[0m\n\u001b[31mERROR: azureml-dataprep 3.1.1 has requirement azure-identity==1.7.0, but you'll have azure-identity 1.10.0 which is incompatible.\u001b[0m\n\u001b[31mERROR: azureml-datadrift 1.41.0 has requirement azureml-core~=1.41.0, but you'll have azureml-core 1.42.0 which is incompatible.\u001b[0m\n\u001b[31mERROR: azureml-datadrift 1.41.0 has requirement matplotlib<=3.2.1,>=3.0.2, but you'll have matplotlib 3.3.4 which is incompatible.\u001b[0m\n\u001b[31mERROR: azureml-core 1.42.0 has requirement azure-core<=1.22.1, but you'll have azure-core 1.23.1 which is incompatible.\u001b[0m\n\u001b[31mERROR: azureml-contrib-services 1.41.0 has requirement azureml-core~=1.41.0, but you'll have azureml-core 1.42.0 which is incompatible.\u001b[0m\n\u001b[31mERROR: azureml-contrib-server 1.41.0 has requirement azureml-core~=1.41.0, but you'll have azureml-core 1.42.0 which is incompatible.\u001b[0m\n\u001b[31mERROR: azureml-contrib-reinforcementlearning 1.41.0 has requirement azureml-core~=1.41.0, but you'll have azureml-core 1.42.0 which is incompatible.\u001b[0m\n\u001b[31mERROR: azureml-contrib-pipeline-steps 1.41.0 has requirement azureml-core~=1.41.0, but you'll have azureml-core 1.42.0 which is incompatible.\u001b[0m\n\u001b[31mERROR: azureml-contrib-notebook 1.41.0 has requirement azureml-core~=1.41.0, but you'll have azureml-core 1.42.0 which is incompatible.\u001b[0m\n\u001b[31mERROR: azureml-contrib-notebook 1.41.0 has requirement jupyter-client<7, but you'll have jupyter-client 7.2.2 which is incompatible.\u001b[0m\n\u001b[31mERROR: azureml-contrib-notebook 1.41.0 has requirement nbconvert<6, but you'll have nbconvert 6.5.0 which is incompatible.\u001b[0m\n\u001b[31mERROR: azureml-contrib-fairness 1.41.0 has requirement azureml-core~=1.41.0, but you'll have azureml-core 1.42.0 which is incompatible.\u001b[0m\n\u001b[31mERROR: azureml-contrib-dataset 1.41.0 has requirement azureml-core~=1.41.0, but you'll have azureml-core 1.42.0 which is incompatible.\u001b[0m\n\u001b[31mERROR: azureml-cli-common 1.41.0 has requirement azureml-core~=1.41.0, but you'll have azureml-core 1.42.0 which is incompatible.\u001b[0m\n\u001b[31mERROR: azureml-automl-dnn-nlp 1.41.0 has requirement azureml-core~=1.41.0, but you'll have azureml-core 1.42.0 which is incompatible.\u001b[0m\n\u001b[31mERROR: azureml-accel-models 1.41.0 has requirement azureml-core~=1.41.0, but you'll have azureml-core 1.42.0 which is incompatible.\u001b[0m\n\u001b[31mERROR: azure-cli 2.36.0 has requirement azure-graphrbac~=0.60.0, but you'll have azure-graphrbac 0.61.1 which is incompatible.\u001b[0m\n\u001b[31mERROR: azure-cli 2.36.0 has requirement azure-mgmt-authorization~=0.61.0, but you'll have azure-mgmt-authorization 2.0.0 which is incompatible.\u001b[0m\n\u001b[31mERROR: azure-cli 2.36.0 has requirement azure-mgmt-containerregistry==8.2.0, but you'll have azure-mgmt-containerregistry 9.1.0 which is incompatible.\u001b[0m\n\u001b[31mERROR: azure-cli 2.36.0 has requirement azure-mgmt-resource==20.0.0, but you'll have azure-mgmt-resource 20.1.0 which is incompatible.\u001b[0m\n\u001b[31mERROR: azure-cli 2.36.0 has requirement azure-mgmt-storage~=20.0.0, but you'll have azure-mgmt-storage 19.1.0 which is incompatible.\u001b[0m\n\u001b[31mERROR: azure-cli 2.36.0 has requirement azure-mgmt-synapse==2.1.0b2, but you'll have azure-mgmt-synapse 2.0.0 which is incompatible.\u001b[0m\n\u001b[31mERROR: azure-cli 2.36.0 has requirement PyNaCl~=1.4.0, but you'll have pynacl 1.5.0 which is incompatible.\u001b[0m\nInstalling collected packages: azure.mgmt.synapse, azure.identity, azureml-core, nose, mock, hdijupyterutils, autovizwidget, gssapi, krb5, pyspnego, requests-kerberos, sparkmagic, azureml-synapse\n  Attempting uninstall: azureml-core\n    Found existing installation: azureml-core 1.41.0\n    Uninstalling azureml-core-1.41.0:\n      Successfully uninstalled azureml-core-1.41.0\nSuccessfully installed autovizwidget-0.20.0 azure.identity azure.mgmt.synapse azureml-core-1.42.0 azureml-synapse-1.42.0 gssapi-1.7.3 hdijupyterutils-0.16.0 krb5-0.3.0 mock-4.0.3 nose-1.3.7 pyspnego-0.5.2 requests-kerberos-0.14.0 sparkmagic-0.16.0\n"
        }
      ],
      "execution_count": 1,
      "metadata": {
        "jupyter": {
          "source_hidden": false,
          "outputs_hidden": false
        },
        "nteract": {
          "transient": {
            "deleting": false
          }
        }
      }
    },
    {
      "cell_type": "markdown",
      "source": [
        "**PLEASE restart kernel and then refresh web page before starting spark session.**"
      ],
      "metadata": {
        "nteract": {
          "transient": {
            "deleting": false
          }
        }
      }
    },
    {
      "cell_type": "markdown",
      "source": [
        "## 0. How to leverage Spark Magic for interactive Spark experience"
      ],
      "metadata": {
        "nteract": {
          "transient": {
            "deleting": false
          }
        }
      }
    },
    {
      "cell_type": "code",
      "source": [
        "%synapse ?"
      ],
      "outputs": [
        {
          "output_type": "stream",
          "name": "stderr",
          "text": "UsageError: Line magic function `%synapse` not found.\n"
        }
      ],
      "execution_count": 2,
      "metadata": {
        "jupyter": {
          "source_hidden": false,
          "outputs_hidden": false
        },
        "nteract": {
          "transient": {
            "deleting": false
          }
        }
      }
    },
    {
      "cell_type": "markdown",
      "source": [
        "## 1. Start Synapse Session"
      ],
      "metadata": {
        "nteract": {
          "transient": {
            "deleting": false
          }
        }
      }
    },
    {
      "cell_type": "code",
      "source": [
        "synapse_compute_name = 'synw-dmpbackup-westeu-01p'"
      ],
      "outputs": [],
      "execution_count": null,
      "metadata": {
        "jupyter": {
          "source_hidden": false,
          "outputs_hidden": false
        },
        "nteract": {
          "transient": {
            "deleting": false
          }
        }
      }
    },
    {
      "cell_type": "markdown",
      "source": [
        "## 2. Data prepration"
      ],
      "metadata": {
        "nteract": {
          "transient": {
            "deleting": false
          }
        }
      }
    },
    {
      "cell_type": "code",
      "source": [
        "%%synapse\n",
        "\n",
        "from pyspark.sql.functions import col, desc\n",
        "\n",
        "df = spark.read.option(\"header\", \"true\").csv(\"wasbs://demo@dprepdata.blob.core.windows.net/Titanic.csv\")\n",
        "df.filter(col('Survived') == 1).groupBy('Age').count().orderBy(desc('count')).show(10)"
      ],
      "outputs": [],
      "execution_count": null,
      "metadata": {
        "jupyter": {
          "source_hidden": false,
          "outputs_hidden": false
        },
        "nteract": {
          "transient": {
            "deleting": false
          }
        }
      }
    },
    {
      "cell_type": "markdown",
      "source": [
        "## 3. Session Metadata"
      ],
      "metadata": {
        "nteract": {
          "transient": {
            "deleting": false
          }
        }
      }
    },
    {
      "cell_type": "code",
      "source": [
        "%synapse meta"
      ],
      "outputs": [],
      "execution_count": null,
      "metadata": {
        "jupyter": {
          "source_hidden": false,
          "outputs_hidden": false
        },
        "nteract": {
          "transient": {
            "deleting": false
          }
        }
      }
    },
    {
      "cell_type": "markdown",
      "source": [
        "## 4. Stop Session"
      ],
      "metadata": {
        "nteract": {
          "transient": {
            "deleting": false
          }
        }
      }
    },
    {
      "cell_type": "code",
      "source": [
        "%synapse stop"
      ],
      "outputs": [],
      "execution_count": null,
      "metadata": {
        "jupyter": {
          "source_hidden": false,
          "outputs_hidden": false
        },
        "nteract": {
          "transient": {
            "deleting": false
          }
        }
      }
    }
  ],
  "metadata": {
    "kernelspec": {
      "name": "python38-azureml",
      "language": "python",
      "display_name": "Python 3.8 - AzureML"
    },
    "language_info": {
      "name": "python",
      "version": "3.8.5",
      "mimetype": "text/x-python",
      "codemirror_mode": {
        "name": "ipython",
        "version": 3
      },
      "pygments_lexer": "ipython3",
      "nbconvert_exporter": "python",
      "file_extension": ".py"
    },
    "kernel_info": {
      "name": "python38-azureml"
    },
    "nteract": {
      "version": "nteract-front-end@1.0.0"
    }
  },
  "nbformat": 4,
  "nbformat_minor": 2
}