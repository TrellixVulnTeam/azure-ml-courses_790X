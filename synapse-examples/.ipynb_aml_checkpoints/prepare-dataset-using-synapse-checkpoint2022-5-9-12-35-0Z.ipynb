{
  "cells": [
    {
      "cell_type": "code",
      "source": [
        "from azureml.core import Workspace, LinkedService, SynapseWorkspaceLinkedServiceConfiguration\n",
        "from azureml.widgets import RunDetails"
      ],
      "outputs": [],
      "execution_count": 37,
      "metadata": {
        "jupyter": {
          "source_hidden": false,
          "outputs_hidden": false
        },
        "nteract": {
          "transient": {
            "deleting": false
          }
        },
        "gather": {
          "logged": 1654778041208
        }
      }
    },
    {
      "cell_type": "code",
      "source": [
        "synapse_linked = 'synw-dmpbackup-westeu-01p-linked'\n",
        "synapse_compute_name = 'cc-small'\n",
        "synapse_pool_name = 'test'"
      ],
      "outputs": [],
      "execution_count": 38,
      "metadata": {
        "jupyter": {
          "source_hidden": false,
          "outputs_hidden": false
        },
        "nteract": {
          "transient": {
            "deleting": false
          }
        },
        "gather": {
          "logged": 1654778041404
        }
      }
    },
    {
      "cell_type": "code",
      "source": [
        "ws = Workspace.from_config()"
      ],
      "outputs": [],
      "execution_count": 39,
      "metadata": {
        "jupyter": {
          "source_hidden": false,
          "outputs_hidden": false
        },
        "nteract": {
          "transient": {
            "deleting": false
          }
        },
        "gather": {
          "logged": 1654778041786
        }
      }
    },
    {
      "cell_type": "markdown",
      "source": [
        "## Retrieve the link between your Azure Synapse Analytics workspace and your Azure Machine Learning workspace"
      ],
      "metadata": {
        "nteract": {
          "transient": {
            "deleting": false
          }
        }
      }
    },
    {
      "cell_type": "code",
      "source": [
        "for service in LinkedService.list(ws) : \n",
        "    print(f\"Service: {service}\")\n",
        "\n",
        "# Retrieve a known linked service\n",
        "linked_service = LinkedService.get(ws, synapse_linked)"
      ],
      "outputs": [
        {
          "output_type": "stream",
          "name": "stdout",
          "text": "Service: LinkedService(workspace=Workspace.create(name='mlw-dmpbackup-westeu-01p', subscription_id='25a89471-60b3-4c91-b44f-ca49f38e6137', resource_group='rg-dmpbackup-westeu-01p'), name=synw-dmpbackup-westeu-01p-linked, type=LinkedServiceLinkType.synapse, linked_service_resource_id=/subscriptions/25a89471-60b3-4c91-b44f-ca49f38e6137/resourceGroups/rg-dmpbackup-westeu-01p/providers/Microsoft.Synapse/workspaces/synw-dmpbackup-westeu-01p, system_assigned_identity_principal_id=4920cd8e-47e7-4407-8d4b-2dc91a133c2f\n"
        }
      ],
      "execution_count": 40,
      "metadata": {
        "jupyter": {
          "source_hidden": false,
          "outputs_hidden": false
        },
        "nteract": {
          "transient": {
            "deleting": false
          }
        },
        "gather": {
          "logged": 1654778042968
        }
      }
    },
    {
      "cell_type": "markdown",
      "source": [
        "## Attach your Apache spark pool as a compute target for Azure Machine Learning"
      ],
      "metadata": {
        "nteract": {
          "transient": {
            "deleting": false
          }
        }
      }
    },
    {
      "cell_type": "code",
      "source": [
        "from azureml.core.compute import SynapseCompute, ComputeTarget\n",
        "\n",
        "\n",
        "attach_config = SynapseCompute.attach_configuration(\n",
        "        linked_service=linked_service,\n",
        "        type=\"SynapseSpark\",\n",
        "        pool_name=synapse_pool_name,\n",
        ")\n",
        "\n",
        "synapse_compute = ComputeTarget.attach(\n",
        "        workspace=ws,\n",
        "        name=synapse_compute_name,\n",
        "        attach_configuration=attach_config,\n",
        ")\n",
        "\n",
        "synapse_compute.wait_for_completion()"
      ],
      "outputs": [
        {
          "output_type": "stream",
          "name": "stdout",
          "text": "Provisioning operation finished, operation \"Succeeded\"\n"
        }
      ],
      "execution_count": 41,
      "metadata": {
        "jupyter": {
          "source_hidden": false,
          "outputs_hidden": false
        },
        "nteract": {
          "transient": {
            "deleting": false
          }
        },
        "gather": {
          "logged": 1654778044151
        }
      }
    },
    {
      "cell_type": "markdown",
      "source": [
        "## Create a SynapseSparkStep that uses the linked Apache Spark pool"
      ],
      "metadata": {
        "nteract": {
          "transient": {
            "deleting": false
          }
        }
      }
    },
    {
      "cell_type": "code",
      "source": [
        "from azureml.core import Dataset, Datastore\n",
        "\n",
        "# datastore = ws.get_default_datastore()\n",
        "datastore = Datastore.get(ws, blob_datastore_name)"
      ],
      "outputs": [],
      "execution_count": 42,
      "metadata": {
        "jupyter": {
          "source_hidden": false,
          "outputs_hidden": false
        },
        "nteract": {
          "transient": {
            "deleting": false
          }
        },
        "gather": {
          "logged": 1654778044534
        }
      }
    },
    {
      "cell_type": "code",
      "source": [],
      "outputs": [],
      "execution_count": null,
      "metadata": {
        "jupyter": {
          "source_hidden": false,
          "outputs_hidden": false
        },
        "nteract": {
          "transient": {
            "deleting": false
          }
        }
      }
    },
    {
      "cell_type": "code",
      "source": [
        "for datastore in ws.datastores:\n",
        "    print(datastore)"
      ],
      "outputs": [
        {
          "output_type": "stream",
          "name": "stdout",
          "text": "azureml_globaldatasets\nworkspacefilestore\nworkspaceartifactstore\nworkspaceworkingdirectory\nworkspaceblobstore\n"
        }
      ],
      "execution_count": 30,
      "metadata": {
        "jupyter": {
          "source_hidden": false,
          "outputs_hidden": false
        },
        "nteract": {
          "transient": {
            "deleting": false
          }
        },
        "gather": {
          "logged": 1654771300206
        }
      }
    },
    {
      "cell_type": "code",
      "source": [
        "from azureml.data import HDFSOutputDatasetConfig\n",
        "\n",
        "step1_output = HDFSOutputDatasetConfig(destination=(datastore, \"test-data\")).register_on_complete(name=\"registered_dataset\")"
      ],
      "outputs": [],
      "execution_count": 23,
      "metadata": {
        "jupyter": {
          "source_hidden": false,
          "outputs_hidden": false
        },
        "nteract": {
          "transient": {
            "deleting": false
          }
        },
        "gather": {
          "logged": 1654770610442
        }
      }
    },
    {
      "cell_type": "code",
      "source": [
        "from azureml.core.environment import Environment\n",
        "from azureml.pipeline.steps import SynapseSparkStep\n",
        "\n",
        "env = Environment(name=\"myenv\")\n",
        "env.python.conda_dependencies.add_pip_package(\"azureml-core>=1.20.0\")\n",
        "\n",
        "step_1 = SynapseSparkStep(\n",
        "    name='synapse-spark',\n",
        "    file='prep-dataset-synapse.py',\n",
        "    source_directory=\"./code/\", \n",
        "    outputs=[step1_output],\n",
        "    arguments=[\"--output_dir\", step1_output],\n",
        "    compute_target=synapse_compute_name,\n",
        "    driver_memory=\"7g\",\n",
        "    driver_cores=4,\n",
        "    executor_memory=\"7g\",\n",
        "    executor_cores=2,\n",
        "    num_executors=1,\n",
        "    environment=env,\n",
        ")"
      ],
      "outputs": [
        {
          "output_type": "stream",
          "name": "stdout",
          "text": "only conda_dependencies specified in environment will be used in Synapse Spark run.\n"
        }
      ],
      "execution_count": 25,
      "metadata": {
        "jupyter": {
          "source_hidden": false,
          "outputs_hidden": false
        },
        "nteract": {
          "transient": {
            "deleting": false
          }
        },
        "gather": {
          "logged": 1654770647398
        }
      }
    },
    {
      "cell_type": "code",
      "source": [
        "from azureml.pipeline.core import Pipeline\n",
        "\n",
        "pipeline = Pipeline(workspace=ws, steps=[step_1])\n",
        "pipeline_run = pipeline.submit('synapse-pipeline', regenerate_outputs=True)\n",
        "RunDetails(pipeline_run).show()\n",
        "pipeline_run.wait_for_completion(show_output=True)"
      ],
      "outputs": [
        {
          "output_type": "stream",
          "name": "stdout",
          "text": "Created step synapse-spark [6304f90c][7bada3c5-522e-4bce-b1af-679befebb57b], (This step will run and generate new outputs)\n"
        }
      ],
      "execution_count": 26,
      "metadata": {
        "jupyter": {
          "source_hidden": false,
          "outputs_hidden": false
        },
        "nteract": {
          "transient": {
            "deleting": false
          }
        }
      }
    },
    {
      "cell_type": "code",
      "source": [
        "import shutil\n",
        "\n",
        "# Remove the local results folder if left over from a previous run\n",
        "shutil.rmtree('../output/predictions', ignore_errors=True)\n",
        "\n",
        "# Get the run for the first step and download its output\n",
        "prediction_run = next(pipeline_run.get_children())\n",
        "prediction_output = prediction_run.get_output_data('inferences')\n",
        "prediction_output.download(local_path='../output/predictions')"
      ],
      "outputs": [],
      "execution_count": null,
      "metadata": {
        "jupyter": {
          "source_hidden": false,
          "outputs_hidden": false
        },
        "nteract": {
          "transient": {
            "deleting": false
          }
        }
      }
    }
  ],
  "metadata": {
    "kernelspec": {
      "name": "python38-azureml",
      "language": "python",
      "display_name": "Python 3.8 - AzureML"
    },
    "language_info": {
      "name": "python",
      "version": "3.8.5",
      "mimetype": "text/x-python",
      "codemirror_mode": {
        "name": "ipython",
        "version": 3
      },
      "pygments_lexer": "ipython3",
      "nbconvert_exporter": "python",
      "file_extension": ".py"
    },
    "kernel_info": {
      "name": "python38-azureml"
    },
    "nteract": {
      "version": "nteract-front-end@1.0.0"
    },
    "microsoft": {
      "host": {
        "AzureML": {
          "notebookHasBeenCompleted": true
        }
      }
    }
  },
  "nbformat": 4,
  "nbformat_minor": 2
}