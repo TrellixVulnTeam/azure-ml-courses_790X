{
  "cells": [
    {
      "cell_type": "markdown",
      "metadata": {
        "nteract": {
          "transient": {
            "deleting": false
          }
        }
      },
      "source": [
        "## Interactive Spark Session on Synapse Spark Pool"
      ]
    },
    {
      "cell_type": "code",
      "execution_count": 1,
      "metadata": {
        "jupyter": {
          "outputs_hidden": false,
          "source_hidden": false
        },
        "nteract": {
          "transient": {
            "deleting": false
          }
        }
      },
      "outputs": [
        {
          "name": "stdout",
          "output_type": "stream",
          "text": [
            "\u001b[31mERROR: azureml-defaults 1.41.0 has requirement azureml-core~=1.41.0, but you'll have azureml-core 1.42.0 which is incompatible.\u001b[0m\n",
            "\u001b[31mERROR: azureml-dataprep 3.1.1 has requirement azure-identity==1.7.0, but you'll have azure-identity 1.10.0 which is incompatible.\u001b[0m\n",
            "\u001b[31mERROR: azure-cli 2.36.0 has requirement azure-graphrbac~=0.60.0, but you'll have azure-graphrbac 0.61.1 which is incompatible.\u001b[0m\n",
            "\u001b[31mERROR: azure-cli 2.36.0 has requirement azure-mgmt-authorization~=0.61.0, but you'll have azure-mgmt-authorization 2.0.0 which is incompatible.\u001b[0m\n",
            "\u001b[31mERROR: azure-cli 2.36.0 has requirement azure-mgmt-containerregistry==8.2.0, but you'll have azure-mgmt-containerregistry 9.1.0 which is incompatible.\u001b[0m\n",
            "\u001b[31mERROR: azure-cli 2.36.0 has requirement azure-mgmt-resource==20.0.0, but you'll have azure-mgmt-resource 20.1.0 which is incompatible.\u001b[0m\n",
            "\u001b[31mERROR: azure-cli 2.36.0 has requirement azure-mgmt-storage~=20.0.0, but you'll have azure-mgmt-storage 19.1.0 which is incompatible.\u001b[0m\n",
            "\u001b[31mERROR: azure-cli 2.36.0 has requirement azure-mgmt-synapse==2.1.0b2, but you'll have azure-mgmt-synapse 2.0.0 which is incompatible.\u001b[0m\n",
            "\u001b[31mERROR: azure-cli 2.36.0 has requirement PyNaCl~=1.4.0, but you'll have pynacl 1.5.0 which is incompatible.\u001b[0m\n"
          ]
        }
      ],
      "source": [
        "!pip install -qq -U \"azureml-synapse\""
      ]
    },
    {
      "cell_type": "markdown",
      "metadata": {
        "nteract": {
          "transient": {
            "deleting": false
          }
        }
      },
      "source": [
        "**PLEASE restart kernel and then refresh web page before starting spark session.**"
      ]
    },
    {
      "cell_type": "markdown",
      "metadata": {
        "nteract": {
          "transient": {
            "deleting": false
          }
        }
      },
      "source": [
        "## 0. How to leverage Spark Magic for interactive Spark experience"
      ]
    },
    {
      "cell_type": "code",
      "execution_count": 2,
      "metadata": {
        "jupyter": {
          "outputs_hidden": false,
          "source_hidden": false
        },
        "nteract": {
          "transient": {
            "deleting": false
          }
        }
      },
      "outputs": [
        {
          "name": "stdout",
          "output_type": "stream",
          "text": [
            "::\n",
            "\n",
            "  %synapse [-s SUBSCRIPTION_ID] [-r RESOURCE_GROUP] [-w WORKSPACE_NAME] [-f CONFIG_FILE] [-c COMPUTE_TARGET] [--driver-memory DRIVER_MEMORY] [--driver-cores DRIVER_CORES] [--executor-memory EXECUTOR_MEMORY] [--executor-cores EXECUTOR_CORES] [-n NUM_EXECUTORS] [-t SESSION_TIMEOUT] [--start-timeout START_TIMEOUT] [-e ENVIRONMENT] [--environment-version ENVIRONMENT_VERSION] [command [command ...]]\n",
            "\n",
            "Magic to execute spark remotely against a Synapse Spark pool.\n",
            "\n",
            "Sub commands:\n",
            "    start: Start a Livy session against target AML Synapse compute.\n",
            "        You can set spark config in the magic body by json format. e.g.\n",
            "\n",
            "        .. code-block:: python\n",
            "\n",
            "            %%synapse start --compute-target synapse_compute\n",
            "            {\n",
            "                \"spark.yarn.appMasterEnv.xxx\": \"xxx\",\n",
            "                \"spark.executorEnv.xxx\": \"xxx\",\n",
            "                \"spark.yarn.maxAppAttempts\": 1\n",
            "            }\n",
            "\n",
            "    run: Run Spark code against the active session.                e.g. `%%synapse` or `%%synapse pyspark` will execute the PySpark code against the active session.                e.g. `%%synapse spark` will execute the Scala code against the active session.\n",
            "    meta: Returns the metadata of the active session.\n",
            "    stop: Stop the active session.\n",
            "\n",
            "positional arguments:\n",
            "  command               Commands to execute.\n",
            "\n",
            "optional arguments:\n",
            "  -s SUBSCRIPTION_ID, --subscription-id SUBSCRIPTION_ID\n",
            "                        Subscription id of your AML workspace.\n",
            "  -r RESOURCE_GROUP, --resource-group RESOURCE_GROUP\n",
            "                        Resource group name of your AML workspace.\n",
            "  -w WORKSPACE_NAME, --workspace-name WORKSPACE_NAME\n",
            "                        Name of your AML workspace.\n",
            "  -f CONFIG_FILE, --config-file CONFIG_FILE\n",
            "                        The path of workspace config file. Will be ignored when subscription-id, resource-group or workspace-name specified.\n",
            "  -c COMPUTE_TARGET, --compute-target COMPUTE_TARGET\n",
            "                        Name of AML Synapse pool compute.\n",
            "  --driver-memory DRIVER_MEMORY\n",
            "                        Memory size of Spark driver, default is 28g.\n",
            "  --driver-cores DRIVER_CORES\n",
            "                        Number of VCores of Spark driver, default is 4.\n",
            "  --executor-memory EXECUTOR_MEMORY\n",
            "                        Memory size of Spark executor, default is 28g.\n",
            "  --executor-cores EXECUTOR_CORES\n",
            "                        Number of VCores of Spark executor, default is 4.\n",
            "  -n NUM_EXECUTORS, --num-executors NUM_EXECUTORS\n",
            "                        Number of Spark executors, default is 2.\n",
            "  -t SESSION_TIMEOUT, --session-timeout SESSION_TIMEOUT\n",
            "                        The number of minutes of session timeout, default is 30.\n",
            "  --start-timeout START_TIMEOUT\n",
            "                        The number of timeout in seconds when session is initialized, default is None.\n",
            "  -e ENVIRONMENT, --environment ENVIRONMENT\n",
            "                        Name of the environment used for this session.\n",
            "  --environment-version ENVIRONMENT_VERSION\n",
            "                        version of the environment, will use latest version if not specified.\n"
          ]
        }
      ],
      "source": [
        "%synapse ?"
      ]
    },
    {
      "cell_type": "markdown",
      "metadata": {
        "nteract": {
          "transient": {
            "deleting": false
          }
        }
      },
      "source": [
        "## 1. Start Synapse Session"
      ]
    },
    {
      "cell_type": "code",
      "execution_count": 3,
      "metadata": {
        "gather": {
          "logged": 1654078613477
        },
        "jupyter": {
          "outputs_hidden": false,
          "source_hidden": false
        },
        "nteract": {
          "transient": {
            "deleting": false
          }
        }
      },
      "outputs": [],
      "source": [
        "synapse_compute_name = 'cc-small'"
      ]
    },
    {
      "cell_type": "code",
      "execution_count": 4,
      "metadata": {
        "jupyter": {
          "outputs_hidden": false,
          "source_hidden": false
        },
        "nteract": {
          "transient": {
            "deleting": false
          }
        }
      },
      "outputs": [
        {
          "name": "stdout",
          "output_type": "stream",
          "text": [
            "Starting session 'aml_notebook_161412', this may take several minutes ................................................................................................................................................................................................................................................................................................................................................................... Succeeded!\n"
          ]
        }
      ],
      "source": [
        "%synapse start -c $synapse_compute_name"
      ]
    },
    {
      "cell_type": "code",
      "execution_count": 5,
      "metadata": {
        "jupyter": {
          "outputs_hidden": false,
          "source_hidden": false
        },
        "nteract": {
          "transient": {
            "deleting": false
          }
        }
      },
      "outputs": [],
      "source": [
        "# %synapse start -c $synapse_compute_name -e AzureML-Minimal\n",
        "# %synapse start -c <compute-name> -s <subscription-id> -r <resource group> -w <workspace-name>\n",
        "# %synapse start -c <compute-name> -s <subscription-id> -r <resource group> -w <workspace-name> -e AzureML-Minimal"
      ]
    },
    {
      "cell_type": "markdown",
      "metadata": {
        "nteract": {
          "transient": {
            "deleting": false
          }
        }
      },
      "source": [
        "## 2. Data prepration"
      ]
    },
    {
      "cell_type": "code",
      "execution_count": 6,
      "metadata": {
        "jupyter": {
          "outputs_hidden": false,
          "source_hidden": false
        },
        "nteract": {
          "transient": {
            "deleting": false
          }
        }
      },
      "outputs": [
        {
          "name": "stdout",
          "output_type": "stream",
          "text": [
            "1\n"
          ]
        }
      ],
      "source": [
        "%%synapse\n",
        "from pyspark.sql import SparkSession\n",
        "\n",
        "spark = (\n",
        "    SparkSession.builder.enableHiveSupport()\n",
        "    .config(\"spark.sql.sources.partitionOverwriteMode\", \"dynamic\")\n",
        "    .getOrCreate()\n",
        ")\n",
        "\n",
        "df = spark.sql(\"select * from pps_adm.msc_cdr where hday = '2022-01-01' limit 1\").cache()\n",
        "cnt = df.count()\n",
        "print(cnt)"
      ]
    },
    {
      "cell_type": "code",
      "execution_count": 7,
      "metadata": {
        "gather": {
          "logged": 1654079013863
        },
        "jupyter": {
          "outputs_hidden": false,
          "source_hidden": false
        },
        "nteract": {
          "transient": {
            "deleting": false
          }
        }
      },
      "outputs": [
        {
          "name": "stdout",
          "output_type": "stream",
          "text": [
            "1\n"
          ]
        }
      ],
      "source": [
        "%%synapse\n",
        "print(cnt)"
      ]
    },
    {
      "cell_type": "markdown",
      "metadata": {
        "nteract": {
          "transient": {
            "deleting": false
          }
        }
      },
      "source": [
        "## 3. Session Metadata"
      ]
    },
    {
      "cell_type": "code",
      "execution_count": 8,
      "metadata": {
        "jupyter": {
          "outputs_hidden": false,
          "source_hidden": false
        },
        "nteract": {
          "transient": {
            "deleting": false
          }
        }
      },
      "outputs": [
        {
          "name": "stdout",
          "output_type": "stream",
          "text": [
            "{\n",
            "    \"application_id\": \"application_1655364006234_0001\",\n",
            "    \"application_name\": \"aml_notebook_161412\",\n",
            "    \"application_state\": \"idle\",\n",
            "    \"application_url\": \"https://web.azuresynapse.net/monitoring/sparkapplication/application_1655364006234_0001?workspace=/subscriptions/25a89471-60b3-4c91-b44f-ca49f38e6137/resourceGroups/rg-dmpbackup-westeu-01p/providers/Microsoft.Synapse/workspaces/synw-dmpbackup-westeu-01p&livyId=92&sparkPoolName=test\",\n",
            "    \"driver_cores\": 4,\n",
            "    \"driver_memory\": \"28g\",\n",
            "    \"environment_name\": null,\n",
            "    \"environment_version\": null,\n",
            "    \"executor_cores\": 4,\n",
            "    \"executor_memory\": \"28g\",\n",
            "    \"num_executors\": 2,\n",
            "    \"resource_group\": \"rg-dmpbackup-westeu-01p\",\n",
            "    \"session_id\": 92,\n",
            "    \"spark_conf\": null,\n",
            "    \"spark_ui_url\": \"https://ms.web.azuresynapse.net/sparkui/041d21aa-b4ab-4ad1-891d-62207b3367ef_dev.azuresynapse.net/workspaces/synw-dmpbackup-westeu-01p/sparkpools/test/sessions/92/applications/application_1655364006234_0001/1/\",\n",
            "    \"start_timeout_seconds\": null,\n",
            "    \"subscription_id\": \"25a89471-60b3-4c91-b44f-ca49f38e6137\",\n",
            "    \"synapse_session_guid\": \"8faf612e-cfb0-4813-a737-fd587669afbf\",\n",
            "    \"timeout_minutes\": 30,\n",
            "    \"workspace_name\": \"mlw-dmpbackup-westeu-01p\"\n",
            "}\n"
          ]
        }
      ],
      "source": [
        "%synapse meta"
      ]
    },
    {
      "cell_type": "markdown",
      "metadata": {
        "nteract": {
          "transient": {
            "deleting": false
          }
        }
      },
      "source": [
        "## 4. Stop Session"
      ]
    },
    {
      "cell_type": "code",
      "execution_count": 9,
      "metadata": {
        "jupyter": {
          "outputs_hidden": false,
          "source_hidden": false
        },
        "nteract": {
          "transient": {
            "deleting": false
          }
        }
      },
      "outputs": [
        {
          "name": "stdout",
          "output_type": "stream",
          "text": [
            "Session stopped.\n"
          ]
        }
      ],
      "source": [
        "%synapse stop"
      ]
    },
    {
      "cell_type": "code",
      "execution_count": null,
      "metadata": {
        "jupyter": {
          "outputs_hidden": false,
          "source_hidden": false
        },
        "nteract": {
          "transient": {
            "deleting": false
          }
        }
      },
      "outputs": [],
      "source": []
    }
  ],
  "metadata": {
    "interpreter": {
      "hash": "6d65a8c07f5b6469e0fc613f182488c0dccce05038bbda39e5ac9075c0454d11"
    },
    "kernel_info": {
      "name": "python38-azureml"
    },
    "kernelspec": {
      "display_name": "Python 3.8.5 ('azureml_py38')",
      "language": "python",
      "name": "python3"
    },
    "language_info": {
      "codemirror_mode": {
        "name": "ipython",
        "version": 3
      },
      "file_extension": ".py",
      "mimetype": "text/x-python",
      "name": "python",
      "nbconvert_exporter": "python",
      "pygments_lexer": "ipython3",
      "version": "3.8.5"
    },
    "nteract": {
      "version": "nteract-front-end@1.0.0"
    }
  },
  "nbformat": 4,
  "nbformat_minor": 2
}
